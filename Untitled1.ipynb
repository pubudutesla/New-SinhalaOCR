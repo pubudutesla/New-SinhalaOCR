{
 "cells": [
  {
   "cell_type": "code",
   "execution_count": 1,
   "metadata": {},
   "outputs": [
    {
     "ename": "TypeError",
     "evalue": "__new__() takes 6 positional arguments but 20 were given",
     "output_type": "error",
     "traceback": [
      "\u001b[1;31m---------------------------------------------------------------------------\u001b[0m",
      "\u001b[1;31mTypeError\u001b[0m                                 Traceback (most recent call last)",
      "\u001b[1;32m<ipython-input-1-b4383edb5c99>\u001b[0m in \u001b[0;36m<module>\u001b[1;34m\u001b[0m\n\u001b[0;32m     18\u001b[0m \u001b[1;32mif\u001b[0m \u001b[0mline_re\u001b[0m\u001b[1;33m.\u001b[0m\u001b[0msearch\u001b[0m\u001b[1;33m(\u001b[0m\u001b[0mline_test\u001b[0m\u001b[1;33m)\u001b[0m\u001b[1;33m:\u001b[0m\u001b[1;33m\u001b[0m\u001b[1;33m\u001b[0m\u001b[0m\n\u001b[0;32m     19\u001b[0m     \u001b[0mitems\u001b[0m \u001b[1;33m=\u001b[0m \u001b[0mline_test\u001b[0m\u001b[1;33m.\u001b[0m\u001b[0msplit\u001b[0m\u001b[1;33m(\u001b[0m\u001b[1;33m)\u001b[0m\u001b[1;33m\u001b[0m\u001b[1;33m\u001b[0m\u001b[0m\n\u001b[1;32m---> 20\u001b[1;33m     \u001b[0mlines\u001b[0m\u001b[1;33m.\u001b[0m\u001b[0mappend\u001b[0m\u001b[1;33m(\u001b[0m\u001b[0mLine\u001b[0m\u001b[1;33m(\u001b[0m\u001b[1;33m*\u001b[0m\u001b[0mitems\u001b[0m\u001b[1;33m)\u001b[0m\u001b[1;33m)\u001b[0m\u001b[1;33m\u001b[0m\u001b[1;33m\u001b[0m\u001b[0m\n\u001b[0m\u001b[0;32m     21\u001b[0m     \u001b[1;31m# df = pd.DataFrame(lines)\u001b[0m\u001b[1;33m\u001b[0m\u001b[1;33m\u001b[0m\u001b[1;33m\u001b[0m\u001b[0m\n\u001b[0;32m     22\u001b[0m     \u001b[1;31m# df.to_csv('tester2.csv', header=True, index=False, encoding='utf-8')\u001b[0m\u001b[1;33m\u001b[0m\u001b[1;33m\u001b[0m\u001b[1;33m\u001b[0m\u001b[0m\n",
      "\u001b[1;31mTypeError\u001b[0m: __new__() takes 6 positional arguments but 20 were given"
     ]
    }
   ],
   "source": [
    "import re\n",
    "from collections import namedtuple\n",
    "import pandas as pd\n",
    "import codecs\n",
    "import sys\n",
    "Line = namedtuple('Line', 'House_No Name NIC Gender Index')\n",
    "\n",
    "#පි ගැ\n",
    "# line_test = \"[1]49/1 වැල්මිල්ල ආරච්චිගේ දොන උදය ප්‍රියශාන්ත කුමාර 821173167V     ගැ 1\"\n",
    "line_test =\"\"\"[1]49/1 වැල්මිල්ල ආරච්චිගේ දොන උදය ප්‍රියශාන්ත කුමාර 821173167V     ගැ 1\n",
    "| 1]49/2 මපතිරණගේ නිශාන්ත මොහන වික්‍රමසිංහ 662141682V පි 4\"\"\"\n",
    "# line_re = re.compile(r'(V\\s+පි|V\\s+ගැ)')\n",
    "# line_re = re.compile(r'([\\[|]\\W*\\d+[\\]|]\\d+\\/?\\d+)\\s+(\\W+)(\\d+[VvXx]?)\\s*(\\W+)\\s*(\\d+)')\n",
    "line_re = re.compile(r'([\\[|]\\W*\\d+[\\]|]\\d+\\/?\\d+).*(\\d+[VvXx]?)\\s*(\\W+)\\s*.*(\\d+)',re.M)\n",
    "# line_re = re.compile(r'([\\[|]\\W*\\d+[\\]|]\\d+\\/?\\d+)\\s+(\\W+)(\\d+[VvXx]?)\\s*(\\W+)\\s*(\\d+)',re.UNICODE)\n",
    "\n",
    "lines = []\n",
    "if line_re.search(line_test):\n",
    "    items = line_test.split()\n",
    "    lines.append(Line(*items))\n",
    "    # df = pd.DataFrame(lines)\n",
    "    # df.to_csv('tester2.csv', header=True, index=False, encoding='utf-8')\n",
    "\n",
    "else:\n",
    "    print('nope')\n",
    "\n",
    "# print(lines)\n",
    "\n",
    "# ------------------------------------\n",
    "print(re.match(r'([\\[|]\\W*\\d+[\\]|]\\d+\\/?\\d+)\\s+', line_test).group(2))\n",
    "heading  = r'[1]49/1 වැල්මිල්ල ආරච්චිගේ දොන උදය ප්‍රියශාන්ත කුමාර 821173167V     ගැ 1'\n",
    "print(re.match(r'([\\[|]\\W*\\d+[\\]|]\\d+\\/?\\d+)(.*\\s+)(\\d+[VvXx]?)\\s*(\\W+)\\s*.*(\\d+)', line_test).group(2))\n",
    "print(re.match(r'[^\\W\\d_]', line_test).group(2))\n",
    "print(line_re.findall(line_test))\n",
    "# for match in matches:\n",
    "#     print(match)\n",
    "# ------------------------------------\n",
    "# df = pd.DataFrame(lines)\n",
    "# print(df['Name'])\n",
    "\n",
    "# df.info()\n",
    "# df['Name'] = df['Name'].astype('unicode')\n",
    "# df['Name'] = df['Name'].apply(lambda x: x.encode('utf-8').strip())\n",
    "# df['Name'] = df['Name'].map(lambda x: x.encode('unicode-escape').decode('utf-16'))\n",
    "# df['Name'] = df['Name'].map(lambda x: x.encode('unicode-escape'))\n",
    "# print(df['Name'])\n",
    "# df['Name'] = df['Name'].map(lambda x: x.decode('utf-16'))\n",
    "# print(df['Name'])\n",
    "# df.info()\n",
    "# df.to_csv('tester.csv', index=False)\n",
    "# df.to_csv('tester2.csv', header=True, index=False, encoding='utf-8')"
   ]
  }
 ],
 "metadata": {
  "kernelspec": {
   "display_name": "Python 3",
   "language": "python",
   "name": "python3"
  },
  "language_info": {
   "codemirror_mode": {
    "name": "ipython",
    "version": 3
   },
   "file_extension": ".py",
   "mimetype": "text/x-python",
   "name": "python",
   "nbconvert_exporter": "python",
   "pygments_lexer": "ipython3",
   "version": "3.8.5"
  }
 },
 "nbformat": 4,
 "nbformat_minor": 4
}
