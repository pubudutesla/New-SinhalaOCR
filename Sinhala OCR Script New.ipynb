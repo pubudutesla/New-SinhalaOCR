{
 "cells": [
  {
   "cell_type": "code",
   "execution_count": 18,
   "metadata": {},
   "outputs": [],
   "source": [
    "# !pip --version"
   ]
  },
  {
   "cell_type": "code",
   "execution_count": 17,
   "metadata": {},
   "outputs": [],
   "source": [
    "# !pip install pytesseract\n",
    "# !pip install Pillow\n",
    "# !pip install opencv-python\n",
    "# !pip install matplotlib"
   ]
  },
  {
   "cell_type": "code",
   "execution_count": 1,
   "metadata": {},
   "outputs": [],
   "source": [
    "import pytesseract as tess\n",
    "tess.pytesseract.tesseract_cmd = r'C:\\Program Files\\Tesseract-OCR\\tesseract.exe'\n",
    "from cv2 import cv2\n",
    "from PIL import Image\n",
    "import matplotlib.pyplot as plt\n",
    "\n"
   ]
  },
  {
   "cell_type": "code",
   "execution_count": 4,
   "metadata": {},
   "outputs": [],
   "source": [
    "im = cv2.imread('page_1_cropped.jpg')\n",
    "\n",
    "gray = cv2.cvtColor(im, cv2.COLOR_BGR2GRAY)\n",
    "blur = cv2.GaussianBlur(gray, (9,9), 0)\n",
    "# thresh2 = cv2.adaptiveThreshold(blur,255,cv2.ADAPTIVE_THRESH_GAUSSIAN_C, cv2.THRESH_BINARY_INV,11,30)\n",
    "thresh2 = cv2.threshold(blur, 0, 255, cv2.THRESH_BINARY_INV + cv2.THRESH_OTSU)[1]\n",
    "\n",
    "# Dilate to combine adjacent text contours\n",
    "kernel = cv2.getStructuringElement(cv2.MORPH_RECT, (9,9))\n",
    "dilate = cv2.dilate(thresh2, kernel, iterations=4)\n",
    "\n",
    "# Find contours, highlight text areas, and extract ROIs\n",
    "cnts = cv2.findContours(dilate, cv2.RETR_EXTERNAL, cv2.CHAIN_APPROX_SIMPLE)\n",
    "cnts = cnts[0] if len(cnts) == 2 else cnts[1]\n",
    "# cnts = sorted(cnts, key=cv2.contourArea, reverse=True)\n",
    "\n",
    "line_items_coordinates = []\n",
    "for c in cnts:\n",
    "    area = cv2.contourArea(c)\n",
    "    x,y,w,h = cv2.boundingRect(c)\n",
    "\n",
    "    weight = 3900\n",
    "    weight2 = 20\n",
    "    # print(\"x,y,w,h\",x,y,w,h)\n",
    "    if area > 10000:\n",
    "            image = cv2.rectangle(im, (x-weight2,y-weight2), (weight, y+h), color=(255,0,255), thickness=1)\n",
    "            line_items_coordinates.append([(x-weight2,y-weight2), (weight, y+h)])\n",
    "    \n",
    "cv2.imwrite(r'xregionified4.jpg',image)\n",
    "#-----------\n",
    "def show_images(titles, images):\n",
    "    # titles = ['dilate']\n",
    "    # images = [dilate]\n",
    "    _range = len(images)\n",
    "\n",
    "    for i in range(_range):\n",
    "        plt.subplot(1, 3, i+1), plt.imshow(images[i], 'gray')\n",
    "        plt.title(titles[i])\n",
    "        plt.xticks([]),plt.yticks([])\n",
    "\n",
    "    plt.show()\n",
    "#-----------\n",
    "\n",
    "# ################### OCR Part\n",
    "# # load the original image\n",
    "# image = cv2.imread('page_1_cropped.jpg')\n",
    "# image_copy = image\n",
    "# # for i,cord in reversed(list(enumerate(line_items_coordinates))):\n",
    "# for i,cord in reversed(list(enumerate(line_items_coordinates))):\n",
    "#     # get co-ordinates to crop the image\n",
    "#     c = line_items_coordinates[i]\n",
    "\n",
    "#     #Get area to crop ROIs\n",
    "#     length = c[1][0] - c[0][0]\n",
    "#     height = c[1][1] - c[0][1]\n",
    "#     area = length * height\n",
    "\n",
    "#     if (area >= 200000 ):\n",
    "#     # cropping image img = image[y0:y1, x0:x1]\n",
    "#         img = image[c[0][1]:c[1][1], c[0][0]:c[1][0]]    \n",
    "\n",
    "#     # convert the image to black and white for better OCR\n",
    "#     gray2 = cv2.cvtColor(img, cv2.COLOR_BGR2GRAY)\n",
    "#     ret1,thresh1 = cv2.threshold(gray2,120,255,cv2.THRESH_BINARY)\n",
    "#     thresh2 = cv2.threshold(gray2, 0, 255, cv2.THRESH_BINARY + cv2.THRESH_OTSU)[1]\n",
    "\n",
    "#     bilf = cv2.bilateralFilter(gray2,9,75,75)\n",
    "\n",
    "#     # titles = ['thresh1','thresh2', 'bilf']\n",
    "#     # images = [thresh1, thresh2, bilf]\n",
    "#     # show_images(titles, images)\n",
    "\n",
    "    \n",
    "#     # pytesseract image to string to get results\n",
    "#     text = str(tess.image_to_string(thresh2, lang='sin', config='--psm 6'))\n",
    "#     print(text)"
   ]
  },
  {
   "cell_type": "markdown",
   "metadata": {},
   "source": [
    "TEST"
   ]
  },
  {
   "cell_type": "code",
   "execution_count": 16,
   "metadata": {},
   "outputs": [
    {
     "name": "stdout",
     "output_type": "stream",
     "text": [
      "| 1]49/ 1 වැල්මිල්ල ආරච්චිගේ දොන උදය ප්‍රියශාන්ත කුමාර 8211731671\" පි ]\n",
      "පනාකඩු ලියනගේ රුපචතී 555091508V ගැ 2\n",
      "වැල්මිල්ල ආරච්චිගේ දොන්‌ සුදර්ශනී රූපිකා කුමාරි 808213796V ගැ 3\n",
      "\n",
      "[1]49/2 මලේ පතිරණගේ නිශාන්ත මොහන්‌ වික්‍රමසිංහ 662141682V පි 4\n",
      "රත්නායක මුදියන්සේලාගේ යමුනා පියසීලි 637963589V ගැ ට්‌\n",
      "රත්නායක\n",
      "මලේ පතිරණගේ නිමන්තිකා මධුභාෂිණ වික්‍රමසිංහ 935660904V ගැ 6\n",
      "මලේ පතිරණගේ විශ්මිකා නිර්මාණි වික්‍රමසිංහ 975800288V ගැ 7\n",
      "\n"
     ]
    }
   ],
   "source": [
    "###### OCR Part\n",
    "# load the original image\n",
    "image = cv2.imread('page_1_cropped.jpg')\n",
    "img = image\n",
    "\n",
    "gray2 = cv2.cvtColor(img, cv2.COLOR_BGR2GRAY)\n",
    "ret1,thresh1 = cv2.threshold(gray2,120,255,cv2.THRESH_BINARY)\n",
    "thresh2 = cv2.threshold(gray2, 0, 255, cv2.THRESH_BINARY + cv2.THRESH_OTSU)[1]\n",
    "\n",
    "bilf = cv2.bilateralFilter(gray2,9,75,75)\n",
    "\n",
    "    \n",
    "# pytesseract image to string to get results\n",
    "text = str(tess.image_to_string(thresh2, lang='sin+eng', config='--psm 6'))\n",
    "print(text)"
   ]
  },
  {
   "cell_type": "code",
   "execution_count": 39,
   "metadata": {},
   "outputs": [],
   "source": [
    "import re\n",
    "from collections import namedtuple\n",
    "import pandas as pd\n"
   ]
  },
  {
   "cell_type": "code",
   "execution_count": 45,
   "metadata": {},
   "outputs": [
    {
     "name": "stdout",
     "output_type": "stream",
     "text": [
      " වැල්මිල්ල ආරච්චිගේ දොන උදය ප්‍රියශාන්ත කුමාර 821173167V     ගැ \n"
     ]
    },
    {
     "ename": "SyntaxError",
     "evalue": "invalid syntax (<string>, line 1)",
     "output_type": "error",
     "traceback": [
      "Traceback \u001b[1;36m(most recent call last)\u001b[0m:\n",
      "  File \u001b[0;32m\"C:\\Users\\Pubudu CS\\anaconda3\\lib\\site-packages\\IPython\\core\\interactiveshell.py\"\u001b[0m, line \u001b[0;32m3418\u001b[0m, in \u001b[0;35mrun_code\u001b[0m\n    exec(code_obj, self.user_global_ns, self.user_ns)\n",
      "\u001b[1;36m  File \u001b[1;32m\"<ipython-input-45-f65e62a51946>\"\u001b[1;36m, line \u001b[1;32m12\u001b[1;36m, in \u001b[1;35m<module>\u001b[1;36m\u001b[0m\n\u001b[1;33m    df = pd.DataFrame(eval(arr))\u001b[0m\n",
      "\u001b[1;36m  File \u001b[1;32m\"<string>\"\u001b[1;36m, line \u001b[1;32m1\u001b[0m\n\u001b[1;33m    වැල්මිල්ල ආරච්චිගේ දොන උදය ප්‍රියශාන්ත කුමාර 821173167V     ගැ\u001b[0m\n\u001b[1;37m              ^\u001b[0m\n\u001b[1;31mSyntaxError\u001b[0m\u001b[1;31m:\u001b[0m invalid syntax\n"
     ]
    }
   ],
   "source": [
    "line_test =\"\"\"[1]49/1 වැල්මිල්ල ආරච්චිගේ දොන උදය ප්‍රියශාන්ත කුමාර 821173167V     ගැ 1\n",
    "| 1]49/2 මපතිරණගේ නිශාන්ත මොහන වික්‍රමසිංහ 662141682V පි 4\"\"\"\n",
    "# print(re.match(r'([\\[|]\\W*\\d+[\\]|]\\d+\\/?\\d+)\\s+', line_test))\n",
    "heading  = r'[1]49/1 වැල්මිල්ල ආරච්චිගේ දොන උදය ප්‍රියශාන්ත කුමාර 821173167V     ගැ 1'\n",
    "print(re.match(r'([\\[|]\\W*\\d+[\\]|]\\d+\\/?\\d+)(.*\\s+)(\\d+[VvXx]?)\\s*(\\W+)\\s*.*(\\d+)', line_test).group(2))\n",
    "# print(re.match(r'[^\\W\\d_]', line_test).group(2))\n",
    "# print(line_re.findall(line_test))\n",
    "\n",
    "arr = re.match(r'([\\[|]\\W*\\d+[\\]|]\\d+\\/?\\d+)(.*\\s+)(\\d+[VvXx]?)\\s*(\\W+)\\s*.*(\\d+)', line_test).group(2)\n",
    "\n",
    "# print(arr)\n",
    "df = pd.DataFrame(eval(arr))\n",
    "\n",
    "df.to_excel('tester1.csv', header=True, index=False, encoding='utf-8')"
   ]
  },
  {
   "cell_type": "code",
   "execution_count": 36,
   "metadata": {},
   "outputs": [
    {
     "name": "stdout",
     "output_type": "stream",
     "text": [
      "10\n",
      "['වැල්මිල්ල', 'ආරච්චිගේ', 'දොන', 'උදය', 'ප්\\u200dරියශාන්ත', 'කුමාර', '821173167V', 'ගැ', '1']\n"
     ]
    },
    {
     "ename": "TypeError",
     "evalue": "__new__() takes 6 positional arguments but 11 were given",
     "output_type": "error",
     "traceback": [
      "\u001b[1;31m---------------------------------------------------------------------------\u001b[0m",
      "\u001b[1;31mTypeError\u001b[0m                                 Traceback (most recent call last)",
      "\u001b[1;32m<ipython-input-36-5014c05940e8>\u001b[0m in \u001b[0;36m<module>\u001b[1;34m\u001b[0m\n\u001b[0;32m     11\u001b[0m     \u001b[0mprint\u001b[0m\u001b[1;33m(\u001b[0m\u001b[0mlen\u001b[0m\u001b[1;33m(\u001b[0m\u001b[0mitems\u001b[0m\u001b[1;33m)\u001b[0m\u001b[1;33m)\u001b[0m\u001b[1;33m\u001b[0m\u001b[1;33m\u001b[0m\u001b[0m\n\u001b[0;32m     12\u001b[0m     \u001b[0mprint\u001b[0m\u001b[1;33m(\u001b[0m\u001b[0mitems\u001b[0m\u001b[1;33m[\u001b[0m\u001b[1;36m1\u001b[0m\u001b[1;33m:\u001b[0m\u001b[1;33m]\u001b[0m\u001b[1;33m)\u001b[0m\u001b[1;33m\u001b[0m\u001b[1;33m\u001b[0m\u001b[0m\n\u001b[1;32m---> 13\u001b[1;33m     \u001b[0mlines\u001b[0m\u001b[1;33m.\u001b[0m\u001b[0mappend\u001b[0m\u001b[1;33m(\u001b[0m\u001b[0mLine\u001b[0m\u001b[1;33m(\u001b[0m\u001b[1;33m*\u001b[0m\u001b[0mitems\u001b[0m\u001b[1;33m)\u001b[0m\u001b[1;33m)\u001b[0m\u001b[1;33m\u001b[0m\u001b[1;33m\u001b[0m\u001b[0m\n\u001b[0m\u001b[0;32m     14\u001b[0m \u001b[1;32melse\u001b[0m\u001b[1;33m:\u001b[0m\u001b[1;33m\u001b[0m\u001b[1;33m\u001b[0m\u001b[0m\n\u001b[0;32m     15\u001b[0m     \u001b[0mprint\u001b[0m\u001b[1;33m(\u001b[0m\u001b[1;34m'nope'\u001b[0m\u001b[1;33m)\u001b[0m\u001b[1;33m\u001b[0m\u001b[1;33m\u001b[0m\u001b[0m\n",
      "\u001b[1;31mTypeError\u001b[0m: __new__() takes 6 positional arguments but 11 were given"
     ]
    }
   ],
   "source": [
    "# Writing to a csv\n",
    "Line = namedtuple('Line', 'House_No Name NIC Gender Index')\n",
    "\n",
    "line_test =\"[1]49/1 වැල්මිල්ල ආරච්චිගේ දොන උදය ප්‍රියශාන්ත කුමාර 821173167V     ගැ 1\"\n",
    "\n",
    "line_re = re.compile(r'([\\[|]\\W*\\d+[\\]|]\\d+\\/?\\d+)\\s+(\\W+)(\\d+[VvXx]?)\\s*(\\W+)\\s*(\\d+)',re.UNICODE)\n",
    "\n",
    "lines = []\n",
    "if re.match(r'([\\[|]\\W*\\d+[\\]|]\\d+\\/?\\d+)(.*\\s+)(\\d+[VvXx]?)\\s*(\\W+)\\s*.*(\\d+)', line_test).group(2):\n",
    "    items = line_test.split()\n",
    "    print(len(items))\n",
    "    print(items[1:])\n",
    "    lines.append(Line(*items))\n",
    "else:\n",
    "    print('nope')\n",
    "\n",
    "df = pd.DataFrame(lines)\n",
    "\n",
    "# df.to_csv('tester.csv', header=True, index=False, encoding='utf-8')"
   ]
  },
  {
   "cell_type": "code",
   "execution_count": null,
   "metadata": {},
   "outputs": [],
   "source": [
    "df.info()\n",
    "df['Name'] = df['Name'].astype('unicode')\n",
    "df['Name'] = df['Name'].apply(lambda x: x.encode('utf-8').strip())\n",
    "df['Name'] = df['Name'].map(lambda x: x.encode('unicode-escape').decode('utf-16'))\n",
    "df['Name'] = df['Name'].map(lambda x: x.encode('unicode-escape'))\n",
    "print(df['Name'])"
   ]
  }
 ],
 "metadata": {
  "kernelspec": {
   "display_name": "Python 3",
   "language": "python",
   "name": "python3"
  },
  "language_info": {
   "codemirror_mode": {
    "name": "ipython",
    "version": 3
   },
   "file_extension": ".py",
   "mimetype": "text/x-python",
   "name": "python",
   "nbconvert_exporter": "python",
   "pygments_lexer": "ipython3",
   "version": "3.8.5"
  }
 },
 "nbformat": 4,
 "nbformat_minor": 4
}
