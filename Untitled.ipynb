{
 "cells": [
  {
   "cell_type": "code",
   "execution_count": 1,
   "metadata": {},
   "outputs": [
    {
     "name": "stdout",
     "output_type": "stream",
     "text": [
      "Requirement already satisfied: xlsxwriter in c:\\users\\pubudu cs\\anaconda3\\lib\\site-packages (1.3.7)\n"
     ]
    }
   ],
   "source": [
    "# !pip install xlsxwriter"
   ]
  },
  {
   "cell_type": "code",
   "execution_count": 2,
   "metadata": {},
   "outputs": [
    {
     "ename": "FileNotFoundError",
     "evalue": "[WinError 3] The system cannot find the path specified: b'./rowAll'",
     "output_type": "error",
     "traceback": [
      "\u001b[1;31m---------------------------------------------------------------------------\u001b[0m",
      "\u001b[1;31mFileNotFoundError\u001b[0m                         Traceback (most recent call last)",
      "\u001b[1;32m<ipython-input-2-07b5f4a2867b>\u001b[0m in \u001b[0;36m<module>\u001b[1;34m\u001b[0m\n\u001b[0;32m     14\u001b[0m \u001b[0mdirectory\u001b[0m \u001b[1;33m=\u001b[0m \u001b[0mos\u001b[0m\u001b[1;33m.\u001b[0m\u001b[0mfsencode\u001b[0m\u001b[1;33m(\u001b[0m\u001b[1;34m'./rowAll'\u001b[0m\u001b[1;33m)\u001b[0m\u001b[1;33m\u001b[0m\u001b[1;33m\u001b[0m\u001b[0m\n\u001b[0;32m     15\u001b[0m \u001b[0mi\u001b[0m \u001b[1;33m=\u001b[0m \u001b[1;36m0\u001b[0m\u001b[1;33m\u001b[0m\u001b[1;33m\u001b[0m\u001b[0m\n\u001b[1;32m---> 16\u001b[1;33m \u001b[1;32mfor\u001b[0m \u001b[0mfile\u001b[0m \u001b[1;32min\u001b[0m \u001b[0mos\u001b[0m\u001b[1;33m.\u001b[0m\u001b[0mlistdir\u001b[0m\u001b[1;33m(\u001b[0m\u001b[0mdirectory\u001b[0m\u001b[1;33m)\u001b[0m\u001b[1;33m:\u001b[0m\u001b[1;33m\u001b[0m\u001b[1;33m\u001b[0m\u001b[0m\n\u001b[0m\u001b[0;32m     17\u001b[0m      \u001b[0mfilename\u001b[0m \u001b[1;33m=\u001b[0m \u001b[0mos\u001b[0m\u001b[1;33m.\u001b[0m\u001b[0mfsdecode\u001b[0m\u001b[1;33m(\u001b[0m\u001b[0mfile\u001b[0m\u001b[1;33m)\u001b[0m\u001b[1;33m\u001b[0m\u001b[1;33m\u001b[0m\u001b[0m\n\u001b[0;32m     18\u001b[0m     \u001b[1;31m#  if filename.endswith(\".jpg\"):\u001b[0m\u001b[1;33m\u001b[0m\u001b[1;33m\u001b[0m\u001b[1;33m\u001b[0m\u001b[0m\n",
      "\u001b[1;31mFileNotFoundError\u001b[0m: [WinError 3] The system cannot find the path specified: b'./rowAll'"
     ]
    }
   ],
   "source": [
    "import xlsxwriter\n",
    "import os\n",
    "import re\n",
    "\n",
    "import pytesseract as tess\n",
    "from PIL import Image\n",
    "tess.pytesseract.tesseract_cmd = r'C:\\Program Files\\Tesseract-OCR\\tesseract.exe'\n",
    "\n",
    "outWorkbook = xlsxwriter.Workbook(\"ocrData3.xlsx\")\n",
    "outSheet = outWorkbook.add_worksheet()\n",
    "\n",
    "\n",
    "\n",
    "directory = os.fsencode('./rowAll')\n",
    "i = 0\n",
    "for file in os.listdir(directory):\n",
    "     filename = os.fsdecode(file)\n",
    "    #  if filename.endswith(\".jpg\"): \n",
    "    #  print('./row1/'+filename)\n",
    "    #  print(filename)\n",
    "    #  print(os.path.join(directory, filename))\n",
    "    #  img =Image.open('./row1/data1.JPG')\n",
    "     img =Image.open('./rowAll/'+filename)\n",
    "     text = tess.image_to_string(img, lang='sin+eng')\n",
    "    #  Replace new lines with a |\n",
    "     mystring = text.replace('\\n', ' | ').replace(' |  | ', '|').replace(' | ', '|')\n",
    "\n",
    "    # split string by |\n",
    "     array = mystring.split(\"|\")\n",
    "     x = 0\n",
    "     y = 0\n",
    "     z = 0\n",
    "     for item in array:\n",
    "    #    outSheet.write(x,0, item)\n",
    "       #check if string has ascii\n",
    "       checker = re.search(r\"\\[\", item)\n",
    "       print(item)\n",
    "       if checker:\n",
    "        #    print(checker)\n",
    "           nonASCII = item.encode('ascii',errors='ignore')\n",
    "           nonASCII_str = nonASCII.decode(\"utf-8\")\n",
    "           outSheet.write(x,0, nonASCII_str)\n",
    "           x = x+1\n",
    "    #    else:\n",
    "    #         print('else'+ checker)\n",
    "    #    elif len(item) == len(item.encode()) and len(item) >= 8:\n",
    "    #        outSheet.write(y,1, item)\n",
    "    #        y = y+1\n",
    "    #    elif len(item) >= 8:\n",
    "    #        outSheet.write(z,2, item)\n",
    "    #        z = z+1\n",
    "     i = i+1\n",
    "\n",
    "outWorkbook.close()\n",
    "\n",
    "#පි ගැ"
   ]
  },
  {
   "cell_type": "code",
   "execution_count": null,
   "metadata": {},
   "outputs": [],
   "source": []
  }
 ],
 "metadata": {
  "kernelspec": {
   "display_name": "Python 3",
   "language": "python",
   "name": "python3"
  },
  "language_info": {
   "codemirror_mode": {
    "name": "ipython",
    "version": 3
   },
   "file_extension": ".py",
   "mimetype": "text/x-python",
   "name": "python",
   "nbconvert_exporter": "python",
   "pygments_lexer": "ipython3",
   "version": "3.8.5"
  }
 },
 "nbformat": 4,
 "nbformat_minor": 4
}
