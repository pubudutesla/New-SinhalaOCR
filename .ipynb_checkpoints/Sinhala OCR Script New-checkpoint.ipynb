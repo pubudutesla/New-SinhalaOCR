{
 "cells": [
  {
   "cell_type": "code",
   "execution_count": 18,
   "metadata": {},
   "outputs": [],
   "source": [
    "# !pip --version"
   ]
  },
  {
   "cell_type": "code",
   "execution_count": 17,
   "metadata": {},
   "outputs": [],
   "source": [
    "# !pip install pytesseract\n",
    "# !pip install Pillow\n",
    "# !pip install opencv-python\n",
    "# !pip install matplotlib"
   ]
  },
  {
   "cell_type": "code",
   "execution_count": 16,
   "metadata": {},
   "outputs": [],
   "source": [
    "import pytesseract as tess\n",
    "tess.pytesseract.tesseract_cmd = r'C:\\Program Files\\Tesseract-OCR\\tesseract.exe'\n",
    "from cv2 import cv2\n",
    "from PIL import Image\n",
    "import matplotlib.pyplot as plt\n",
    "\n"
   ]
  },
  {
   "cell_type": "code",
   "execution_count": null,
   "metadata": {},
   "outputs": [],
   "source": [
    "im = cv2.imread('page_1_cropped.jpg')\n",
    "\n",
    "gray = cv2.cvtColor(im, cv2.COLOR_BGR2GRAY)\n",
    "blur = cv2.GaussianBlur(gray, (9,9), 0)\n",
    "# thresh2 = cv2.adaptiveThreshold(blur,255,cv2.ADAPTIVE_THRESH_GAUSSIAN_C, cv2.THRESH_BINARY_INV,11,30)\n",
    "thresh2 = cv2.threshold(blur, 0, 255, cv2.THRESH_BINARY_INV + cv2.THRESH_OTSU)[1]\n",
    "\n",
    "# Dilate to combine adjacent text contours\n",
    "kernel = cv2.getStructuringElement(cv2.MORPH_RECT, (9,9))\n",
    "dilate = cv2.dilate(thresh2, kernel, iterations=4)\n",
    "\n",
    "# Find contours, highlight text areas, and extract ROIs\n",
    "cnts = cv2.findContours(dilate, cv2.RETR_EXTERNAL, cv2.CHAIN_APPROX_SIMPLE)\n",
    "cnts = cnts[0] if len(cnts) == 2 else cnts[1]\n",
    "# cnts = sorted(cnts, key=cv2.contourArea, reverse=True)\n",
    "\n",
    "line_items_coordinates = []\n",
    "for c in cnts:\n",
    "    area = cv2.contourArea(c)\n",
    "    x,y,w,h = cv2.boundingRect(c)\n",
    "\n",
    "    weight = 3900\n",
    "    weight2 = 20\n",
    "    # print(\"x,y,w,h\",x,y,w,h)\n",
    "    if area > 10000:\n",
    "            image = cv2.rectangle(im, (x-weight2,y-weight2), (weight, y+h), color=(255,0,255), thickness=1)\n",
    "            line_items_coordinates.append([(x-weight2,y-weight2), (weight, y+h)])\n",
    "    \n",
    "cv2.imwrite(r'xregionified4.jpg',image)\n",
    "#-----------\n",
    "def show_images(titles, images):\n",
    "    # titles = ['dilate']\n",
    "    # images = [dilate]\n",
    "    _range = len(images)\n",
    "\n",
    "    for i in range(_range):\n",
    "        plt.subplot(1, 3, i+1), plt.imshow(images[i], 'gray')\n",
    "        plt.title(titles[i])\n",
    "        plt.xticks([]),plt.yticks([])\n",
    "\n",
    "    plt.show()\n",
    "#-----------\n",
    "\n",
    "################### OCR Part\n",
    "# load the original image\n",
    "image = cv2.imread('page_1_cropped.jpg')\n",
    "image_copy = image\n",
    "# for i,cord in reversed(list(enumerate(line_items_coordinates))):\n",
    "for i,cord in reversed(list(enumerate(line_items_coordinates))):\n",
    "    # get co-ordinates to crop the image\n",
    "    c = line_items_coordinates[i]\n",
    "\n",
    "    #Get area to crop ROIs\n",
    "    length = c[1][0] - c[0][0]\n",
    "    height = c[1][1] - c[0][1]\n",
    "    area = length * height\n",
    "\n",
    "    if (area >= 200000 ):\n",
    "    # cropping image img = image[y0:y1, x0:x1]\n",
    "        img = image[c[0][1]:c[1][1], c[0][0]:c[1][0]]    \n",
    "\n",
    "    # convert the image to black and white for better OCR\n",
    "    gray2 = cv2.cvtColor(img, cv2.COLOR_BGR2GRAY)\n",
    "    ret1,thresh1 = cv2.threshold(gray2,120,255,cv2.THRESH_BINARY)\n",
    "    thresh2 = cv2.threshold(gray2, 0, 255, cv2.THRESH_BINARY + cv2.THRESH_OTSU)[1]\n",
    "\n",
    "    bilf = cv2.bilateralFilter(gray2,9,75,75)\n",
    "\n",
    "    # titles = ['thresh1','thresh2', 'bilf']\n",
    "    # images = [thresh1, thresh2, bilf]\n",
    "    # show_images(titles, images)\n",
    "\n",
    "    \n",
    "    # pytesseract image to string to get results\n",
    "    text = str(tess.image_to_string(thresh2, lang='sin+eng', config='--psm 6'))\n",
    "    print(text)"
   ]
  }
 ],
 "metadata": {
  "kernelspec": {
   "display_name": "Python 3",
   "language": "python",
   "name": "python3"
  },
  "language_info": {
   "codemirror_mode": {
    "name": "ipython",
    "version": 3
   },
   "file_extension": ".py",
   "mimetype": "text/x-python",
   "name": "python",
   "nbconvert_exporter": "python",
   "pygments_lexer": "ipython3",
   "version": "3.8.5"
  }
 },
 "nbformat": 4,
 "nbformat_minor": 4
}
