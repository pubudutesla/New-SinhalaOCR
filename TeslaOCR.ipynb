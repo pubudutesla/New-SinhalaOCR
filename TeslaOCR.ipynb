{
 "cells": [
  {
   "cell_type": "code",
   "execution_count": null,
   "metadata": {},
   "outputs": [],
   "source": [
    "# !pip install pytesseract\n",
    "# !pip install Pillow\n",
    "# !pip install opencv-python\n",
    "# !pip install matplotlib"
   ]
  },
  {
   "cell_type": "code",
   "execution_count": 29,
   "metadata": {},
   "outputs": [],
   "source": [
    "import pytesseract as tess\n",
    "tess.pytesseract.tesseract_cmd = r'C:\\Program Files\\Tesseract-OCR\\tesseract.exe'\n",
    "from cv2 import cv2\n",
    "from PIL import Image\n",
    "import matplotlib.pyplot as plt\n",
    "import re\n",
    "import pandas as pd\n"
   ]
  },
  {
   "cell_type": "code",
   "execution_count": 16,
   "metadata": {
    "scrolled": false
   },
   "outputs": [
    {
     "name": "stdout",
     "output_type": "stream",
     "text": [
      "| 1]49/ 1 වැල්මිල්ල ආරච්චිගේ දොන උදය ප්‍රියශාන්ත කුමාර 8211731671\" පි ]\n",
      "පනාකඩු ලියනගේ රුපචතනී 555091508V ගැ 2\n",
      "වැල්මිල්ල ආරච්චිගේ දොන්‌ සුදර්ශනී රූපිකා කුමාරි 808213796V ගැ 3\n",
      "\n",
      "[1]49/2 මලේ පතිරණගේ නිශාන්ත මොහන වික්‍රමසිංහ 662141682V පි 4\n",
      "රත්නායක මුදියන්සේලාගේ යමුනා පියසීලි 637963589V ගැ ට්‌\n",
      "රත්නායක\n",
      "මලේ පතිරණගේ නිමන්තිකා මධුභාෂිණ වික්‍රමසිංහ 935660904V ගැ 6\n",
      "මලේ පතිරණගේ විශ්මිකා නිර්මාණි වික්‍රමසිංහ 975800288\"%' ගැ 7\n",
      "\n"
     ]
    }
   ],
   "source": [
    "###### OCR Part\n",
    "# load the original image\n",
    "image = cv2.imread('page_1_cropped.jpg')\n",
    "img = image\n",
    "\n",
    "gray2 = cv2.cvtColor(img, cv2.COLOR_BGR2GRAY)\n",
    "ret1,thresh1 = cv2.threshold(gray2,120,255,cv2.THRESH_BINARY)\n",
    "thresh2 = cv2.threshold(gray2, 0, 255, cv2.THRESH_BINARY + cv2.THRESH_OTSU)[1]\n",
    "\n",
    "bilf = cv2.bilateralFilter(thresh2,9,75,75)\n",
    "\n",
    "    \n",
    "# pytesseract image to string to get results\n",
    "text = str(tess.image_to_string(bilf, lang='sin+eng', config='--psm 6'))\n",
    "print(text)"
   ]
  },
  {
   "cell_type": "code",
   "execution_count": 45,
   "metadata": {},
   "outputs": [
    {
     "name": "stdout",
     "output_type": "stream",
     "text": [
      "'| 1]49/ 1 වැල්මිල්ල ආරච්චිගේ දොන උදය ප්\\u200dරියශාන්ත කුමාර 8211731671\" පි ]\\nපනාකඩු ලියනගේ රුපචතනී 555091508V ගැ 2\\nවැල්මිල්ල ආරච්චිගේ දොන්\\u200c සුදර්ශනී රූපිකා කුමාරි 808213796V ගැ 3\\n\\n[1]49/2 මලේ පතිරණගේ නිශාන්ත මොහන වික්\\u200dරමසිංහ 662141682V පි 4\\nරත්නායක මුදියන්සේලාගේ යමුනා පියසීලි 637963589V ගැ ට්\\u200c\\nරත්නායක\\nමලේ පතිරණගේ නිමන්තිකා මධුභාෂිණ වික්\\u200dරමසිංහ 935660904V ගැ 6\\nමලේ පතිරණගේ විශ්මිකා නිර්මාණි වික්\\u200dරමසිංහ 975800288\"%\\' ගැ 7\\n'\n",
      "| 1]49/ 1 වැල්මිල්ල ආරච්චිගේ දොන උදය ප්‍රියශාන්ත කුමාර 8211731671\" පි ]\n",
      "පනාකඩු ලියනගේ රුපචතනී 555091508V ගැ 2\n",
      "වැල්මිල්ල ආරච්චිගේ දොන්‌ සුදර්ශනී රූපිකා කුමාරි 808213796V ගැ 3\n",
      "\n",
      "[1]49/2 මලේ පතිරණගේ නිශාන්ත මොහන වික්‍රමසිංහ 662141682V පි 4\n",
      "රත්නායක මුදියන්සේලාගේ යමුනා පියසීලි 637963589V ගැ ට්‌\n",
      "රත්නායක\n",
      "මලේ පතිරණගේ නිමන්තිකා මධුභාෂිණ වික්‍රමසිංහ 935660904V ගැ 6\n",
      "මලේ පතිරණගේ විශ්මිකා නිර්මාණි වික්‍රමසිංහ 975800288\"%' ගැ 7\n",
      "\n"
     ]
    }
   ],
   "source": [
    "print(repr(text))\n",
    "result = text.split(\"\\n\")\n",
    "\n",
    "for i in result:\n",
    "    print(i)"
   ]
  },
  {
   "cell_type": "code",
   "execution_count": 28,
   "metadata": {},
   "outputs": [
    {
     "name": "stdout",
     "output_type": "stream",
     "text": [
      "('| 1]49', '/ ', '1', ' ', '1')\n",
      "('', 'පනාකඩු ලියනගේ රුපචතනී 555091508V ගැ ', '2', '\\n', '3')\n",
      "('[1]49/2', ' මලේ පතිරණගේ නිශාන්ත මොහන වික්\\u200dරමසිංහ 662141682V පි ', '4', '\\n', '9')\n",
      "('', 'මලේ පතිරණගේ නිමන්තිකා මධුභාෂිණ වික්\\u200dරමසිංහ 935660904V ගැ ', '6', '\\n', '7')\n"
     ]
    }
   ],
   "source": [
    "all_txt = re.findall(r'([\\[|]\\W*\\d+[\\]|]\\d+\\/?\\d+)?(.*\\s+)(\\d+[VvXx]?)\\s*(\\W+)\\s*.*(\\d+)', text)\n",
    "\n",
    "for i in all_txt:\n",
    "    print(i)"
   ]
  },
  {
   "cell_type": "code",
   "execution_count": 40,
   "metadata": {},
   "outputs": [],
   "source": [
    "df = pd.DataFrame(result)\n",
    "\n",
    "df.to_excel('tester2.xlsx', header=True, index=False, encoding='utf-8')"
   ]
  }
 ],
 "metadata": {
  "kernelspec": {
   "display_name": "Python 3",
   "language": "python",
   "name": "python3"
  },
  "language_info": {
   "codemirror_mode": {
    "name": "ipython",
    "version": 3
   },
   "file_extension": ".py",
   "mimetype": "text/x-python",
   "name": "python",
   "nbconvert_exporter": "python",
   "pygments_lexer": "ipython3",
   "version": "3.8.5"
  }
 },
 "nbformat": 4,
 "nbformat_minor": 4
}
